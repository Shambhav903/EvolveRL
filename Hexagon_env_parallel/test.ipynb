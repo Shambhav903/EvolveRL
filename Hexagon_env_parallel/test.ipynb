{
 "cells": [
  {
   "cell_type": "code",
   "execution_count": null,
   "metadata": {},
   "outputs": [],
   "source": [
    "import functools\n",
    "import gymnasium\n",
    "import numpy as np\n",
    "from gymnasium.spaces import Discrete\n",
    "from pettingzoo import AECEnv\n",
    "from pettingzoo.utils import agent_selector, wrappers\n",
    "import pygame\n",
    "from hexagon_env_parallel.helperDisplay import clearGrid, init_hexagons, initializeAgent, render\n",
    "from hexagon_env_parallel.helperDisplay import predatorDirectionGenerator,preyDirectionGenerator,predator_vision,prey_vision\n",
    "from hexagon_env_parallel.environment import Hex_Env"
   ]
  },
  {
   "cell_type": "code",
   "execution_count": null,
   "metadata": {},
   "outputs": [
    {
     "ename": "",
     "evalue": "",
     "output_type": "error",
     "traceback": [
      "\u001b[1;31mThe Kernel crashed while executing code in the the current cell or a previous cell. Please review the code in the cell(s) to identify a possible cause of the failure. Click <a href='https://aka.ms/vscodeJupyterKernelCrash'>here</a> for more info. View Jupyter <a href='command:jupyter.viewOutput'>log</a> for further details."
     ]
    }
   ],
   "source": [
    "import time\n",
    "import random\n",
    "\n",
    "a = env = Hex_Env(render_mode=\"human\")\n",
    "a.reset()\n",
    "count = 10000\n",
    "terminated = False\n",
    "# for i in range(count):\n",
    "while not terminated:\n",
    "    actions = []\n",
    "    for agent in a.agents:\n",
    "        actions.append((agent,random.randint(1,7)))\n",
    "    actions = dict(actions)\n",
    "    a.step(actions)\n",
    "    terminated = a.render()\n",
    "    for event in pygame.event.get():\n",
    "            if event.type == pygame.QUIT:\n",
    "                terminated = True\n"
   ]
  },
  {
   "cell_type": "code",
   "execution_count": null,
   "metadata": {},
   "outputs": [],
   "source": []
  }
 ],
 "metadata": {
  "kernelspec": {
   "display_name": "openai-gym",
   "language": "python",
   "name": "python3"
  },
  "language_info": {
   "codemirror_mode": {
    "name": "ipython",
    "version": 3
   },
   "file_extension": ".py",
   "mimetype": "text/x-python",
   "name": "python",
   "nbconvert_exporter": "python",
   "pygments_lexer": "ipython3",
   "version": "3.10.1"
  }
 },
 "nbformat": 4,
 "nbformat_minor": 2
}
